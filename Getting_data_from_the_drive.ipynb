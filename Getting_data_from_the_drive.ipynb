{
  "nbformat": 4,
  "nbformat_minor": 0,
  "metadata": {
    "colab": {
      "name": "Getting data from the drive.ipynb",
      "provenance": [],
      "authorship_tag": "ABX9TyNa7nukzsSn6GJ7NAqy1hKY"
    },
    "kernelspec": {
      "name": "python3",
      "display_name": "Python 3"
    }
  },
  "cells": [
    {
      "cell_type": "code",
      "metadata": {
        "id": "FdkZJ0bEzjKv",
        "colab_type": "code",
        "colab": {
          "base_uri": "https://localhost:8080/",
          "height": 34
        },
        "outputId": "12e4a8d2-2d1f-4fad-cf9e-afc5633ab4ea"
      },
      "source": [
        "from google.colab import drive # Here we mount the colab notebook to the drive.\n",
        "drive.mount('/content/gdrive')"
      ],
      "execution_count": 13,
      "outputs": [
        {
          "output_type": "stream",
          "text": [
            "Mounted at /content/gdrive\n"
          ],
          "name": "stdout"
        }
      ]
    },
    {
      "cell_type": "code",
      "metadata": {
        "id": "v0U-x0UJCL9j",
        "colab_type": "code",
        "colab": {}
      },
      "source": [
        "with open('/content/gdrive/My Drive/Foo.txt', 'w') as f:\n",
        "  f.write('Hello Google Drive!')\n",
        "# !cat /content/drive/My\\ Drive/foo.txt"
      ],
      "execution_count": 0,
      "outputs": []
    },
    {
      "cell_type": "code",
      "metadata": {
        "id": "yD1VT9SjDV08",
        "colab_type": "code",
        "colab": {
          "base_uri": "https://localhost:8080/",
          "height": 34
        },
        "outputId": "caf16d81-f505-4293-864e-96b46f51cdf8"
      },
      "source": [
        "drive.flush_and_unmount() # Here we unmount the colab notebook from drive.\n",
        "print('All changes made in this colab session should now be visible in Drive.')"
      ],
      "execution_count": 17,
      "outputs": [
        {
          "output_type": "stream",
          "text": [
            "All changes made in this colab session should now be visible in Drive.\n"
          ],
          "name": "stdout"
        }
      ]
    }
  ]
}